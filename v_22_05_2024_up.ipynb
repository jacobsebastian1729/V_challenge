{
  "nbformat": 4,
  "nbformat_minor": 0,
  "metadata": {
    "colab": {
      "provenance": []
    },
    "kernelspec": {
      "name": "python3",
      "display_name": "Python 3"
    },
    "language_info": {
      "name": "python"
    }
  },
  "cells": [
    {
      "cell_type": "markdown",
      "source": [
        "# **test1 and train modeification based on correlation analysis**"
      ],
      "metadata": {
        "id": "sdI8oC4o2M-g"
      }
    },
    {
      "cell_type": "code",
      "execution_count": 41,
      "metadata": {
        "id": "of3gVVRnCdTE"
      },
      "outputs": [],
      "source": [
        "import pandas as pd\n",
        "import numpy as np"
      ]
    },
    {
      "cell_type": "code",
      "source": [
        "train = pd.read_csv(\"train_merged_1.csv\")\n",
        "test = pd.read_csv(\"test_merged.csv\")"
      ],
      "metadata": {
        "id": "Zg8lNu1BHnkK"
      },
      "execution_count": 42,
      "outputs": []
    },
    {
      "cell_type": "code",
      "source": [
        "#print(train.shape)\n",
        "#print(test.shape)"
      ],
      "metadata": {
        "id": "0fAFq4W6IPVG"
      },
      "execution_count": 43,
      "outputs": []
    },
    {
      "cell_type": "code",
      "source": [
        "null_columns = train.columns[train.isnull().all()]\n",
        "print(len(null_columns))\n",
        "#print(null_columns)"
      ],
      "metadata": {
        "colab": {
          "base_uri": "https://localhost:8080/"
        },
        "id": "dOCj_LweHuJl",
        "outputId": "2c0ddd1e-eb10-4039-c4ff-b6a610507274"
      },
      "execution_count": 44,
      "outputs": [
        {
          "output_type": "stream",
          "name": "stdout",
          "text": [
            "7\n"
          ]
        }
      ]
    },
    {
      "cell_type": "code",
      "source": [
        "df_train = train.drop(columns = null_columns)\n",
        "df_test = test.drop(columns = null_columns)"
      ],
      "metadata": {
        "id": "ktTZMxuhH0Bm"
      },
      "execution_count": 45,
      "outputs": []
    },
    {
      "cell_type": "code",
      "source": [
        "#print(df_train.shape)\n",
        "#print(df_test.shape)"
      ],
      "metadata": {
        "id": "yk_NzLyaIFdM"
      },
      "execution_count": 46,
      "outputs": []
    },
    {
      "cell_type": "code",
      "source": [
        "#print(df_train.columns[17:314])\n",
        "#print(df_test.columns[16:313])"
      ],
      "metadata": {
        "id": "NuktNlouIG_R"
      },
      "execution_count": 47,
      "outputs": []
    },
    {
      "cell_type": "code",
      "source": [
        "columns = df_train.iloc[:, 17:314]\n",
        "\n",
        "# Compute the correlation matrix\n",
        "corr_matrix = columns.corr()"
      ],
      "metadata": {
        "id": "TezDG_esIh8T"
      },
      "execution_count": 48,
      "outputs": []
    },
    {
      "cell_type": "code",
      "source": [
        "#print(corr_matrix.iloc[:11,2])"
      ],
      "metadata": {
        "id": "T2qyEnWvItkl"
      },
      "execution_count": null,
      "outputs": []
    },
    {
      "cell_type": "code",
      "source": [
        "high_corr_pairs_100 = [(i, j) for i in corr_matrix.columns for j in corr_matrix.columns if i != j and corr_matrix.loc[i, j] == 1]\n",
        "print(len(high_corr_pairs_100))\n",
        "#print(high_corr_pairs_100)"
      ],
      "metadata": {
        "id": "hPcK9yR1IzcG",
        "colab": {
          "base_uri": "https://localhost:8080/"
        },
        "outputId": "f484d406-f48b-4a2b-a227-6c1708710adc"
      },
      "execution_count": 49,
      "outputs": [
        {
          "output_type": "stream",
          "name": "stdout",
          "text": [
            "2\n"
          ]
        }
      ]
    },
    {
      "cell_type": "code",
      "source": [
        "high_corr_pairs_99 = [(i, j) for i in corr_matrix.columns for j in corr_matrix.columns if i != j and corr_matrix.loc[i, j] >= 0.99]\n",
        "print(len(high_corr_pairs_99))\n",
        "#print(high_corr_pairs_99)"
      ],
      "metadata": {
        "id": "tLMEYgIQJxNy",
        "colab": {
          "base_uri": "https://localhost:8080/"
        },
        "outputId": "bd2ed298-94d0-4918-fa07-03abb887d654"
      },
      "execution_count": 50,
      "outputs": [
        {
          "output_type": "stream",
          "name": "stdout",
          "text": [
            "210\n"
          ]
        }
      ]
    },
    {
      "cell_type": "code",
      "source": [
        "df2_train = df_train.copy()\n",
        "df2_test = df_test.copy()"
      ],
      "metadata": {
        "id": "QTt4eJdS1fSI"
      },
      "execution_count": 51,
      "outputs": []
    },
    {
      "cell_type": "code",
      "source": [
        "for col1, col2 in high_corr_pairs_99:\n",
        "    if col1 in df2_train.columns and col2 in df2_train.columns:\n",
        "        #print(f\"Dropping column {col2} as it is perfectly correlated with column {col1}\")\n",
        "        df2_train = df2_train.drop(columns=[col2])\n",
        "        df2_test = df2_test.drop(columns=[col2])\n",
        "\n",
        "        #print(col2)"
      ],
      "metadata": {
        "id": "RPRChCxHLqsY"
      },
      "execution_count": 52,
      "outputs": []
    },
    {
      "cell_type": "code",
      "source": [
        "#print(df2_train.shape)\n",
        "#print(df2_test.shape)"
      ],
      "metadata": {
        "id": "pzbGq1bp0dLH"
      },
      "execution_count": 53,
      "outputs": []
    },
    {
      "cell_type": "code",
      "source": [
        "#df2_train.to_csv('train1_corr.csv', index=False)\n",
        "#df2_test.to_csv('test1_corr.csv', index=False)"
      ],
      "metadata": {
        "id": "a79LB1Yo1NTA"
      },
      "execution_count": 54,
      "outputs": []
    },
    {
      "cell_type": "code",
      "source": [],
      "metadata": {
        "id": "5wbR4u_D3x8q"
      },
      "execution_count": null,
      "outputs": []
    }
  ]
}