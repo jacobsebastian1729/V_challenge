{
  "nbformat": 4,
  "nbformat_minor": 0,
  "metadata": {
    "colab": {
      "provenance": []
    },
    "kernelspec": {
      "name": "python3",
      "display_name": "Python 3"
    },
    "language_info": {
      "name": "python"
    }
  },
  "cells": [
    {
      "cell_type": "code",
      "execution_count": 1,
      "metadata": {
        "id": "599q0x151-IW"
      },
      "outputs": [],
      "source": [
        "import pandas as pd\n",
        "import numpy as np\n",
        "from sklearn.svm import SVC\n",
        "from sklearn.preprocessing import StandardScaler\n",
        "from sklearn.metrics import precision_recall_fscore_support\n",
        "#from accuracy_calculator import calculate_accuracies\n",
        "import os\n",
        "import zipfile\n",
        "import matplotlib.pyplot as plt"
      ]
    },
    {
      "cell_type": "code",
      "source": [
        "# Function to calculate macro average F1-score\n",
        "def macro_avg_f1(y_true, y_pred):\n",
        "    precision, recall, f1, _ = precision_recall_fscore_support(y_true, y_pred)\n",
        "    return round(sum(f1) / len(f1), 2)"
      ],
      "metadata": {
        "id": "ZRDqOFh7DGHH"
      },
      "execution_count": 2,
      "outputs": []
    },
    {
      "cell_type": "code",
      "source": [
        "def apply_threshold(probs, threshold=0.5):\n",
        "    print(\"threshold\", threshold)\n",
        "    return np.where(probs <= threshold, 'Medium', 'Not Medium')"
      ],
      "metadata": {
        "id": "HmQZ2celDIm6"
      },
      "execution_count": 3,
      "outputs": []
    },
    {
      "cell_type": "code",
      "source": [
        "train = pd.read_csv(\"train_merged_4.csv\")\n",
        "test1 = pd.read_csv(\"train_merged_1.csv\")\n",
        "test4 = pd.read_csv(\"train_merged_4.csv\")"
      ],
      "metadata": {
        "id": "zGY4zfPWDQna"
      },
      "execution_count": 49,
      "outputs": []
    },
    {
      "cell_type": "code",
      "source": [
        "# Drop columns with all null values\n",
        "null_columns = train.columns[train.isnull().all()]\n",
        "df2_train = train.drop(columns=null_columns)\n",
        "df2_test1 = test1.drop(columns=null_columns)\n",
        "df2_test4 = test4.drop(columns=null_columns)\n",
        "#df2_test = test.drop(columns=null_columns)\n",
        "\n",
        "# Fill missing values with 0\n",
        "df2_train.fillna(0, inplace=True)\n",
        "df2_test1.fillna(0, inplace=True)\n",
        "df2_test4.fillna(0, inplace=True)\n",
        "#df2_test.fillna(0, inplace=True)\n",
        "\n",
        "# Select relevant columns\n",
        "train_columns_to_select = [0, 1, 2, 3, 4, 5, 6, 7, 8, 9, 10, 11, 12, 13, 14, 15, 16,\n",
        "                           17, 19, 21, 22, 23, 24, 25, 26, 27, 29, 30, 36, 37, 39,\n",
        "                           40, 43, 47, 51, 59, 60, 64, 65, 66, 73, 76, 78, 79, 81,\n",
        "                           83, 84, 85, 86, 87, 88, 90, 91, 93, 97, 98, 102, 103, 104,\n",
        "                           108, 110, 114, 115, 116, 118, 119, 120, 122, 123, 124, 127,\n",
        "                           128, 129, 130, 132, 133, 143, 144, 151, 152, 155, 161, 162,\n",
        "                           169, 170, 171, 173, 174, 175, 177, 178, 179, 180, 181, 182,\n",
        "                           184, 186, 187, 188, 189, 190, 193, 194, 195, 197, 198, 199,\n",
        "                           200, 201, 202, 204, 205, 206, 207, 208, 210, 211, 213, 214,\n",
        "                           215, 220, 221, 223, 224, 225, 226, 227, 228, 229, 231, 232,\n",
        "                           233, 234, 235, 236, 238, 239, 240, 241, 242, 243, 244, 245,\n",
        "                           246, 247, 248, 249, 250, 251, 252, 253, 254, 255, 259, 260,\n",
        "                           261, 262, 265, 283, 284, 285, 286, 287, 288, 289, 290, 291,\n",
        "                           292, 295, 296, 298, 299, 301, 302, 303, 304, 305, 306, 307,\n",
        "                           308, 309, 310, 311]\n",
        "\n",
        "test_columns_to_select = [i - 1 for i in train_columns_to_select][1:]\n",
        "\n",
        "df2_train = df2_train.iloc[:, train_columns_to_select]\n",
        "df2_test1 = df2_test1.iloc[:, train_columns_to_select]\n",
        "df2_test4 = df2_test4.iloc[:, train_columns_to_select]\n",
        "#df2_test = df2_test.iloc[:, test_columns_to_select]\n",
        "\n",
        "# Split the training data into features and labels\n",
        "X_train = df2_train.drop(columns=['ChassisId_encoded', 'gen', 'risk_level', 'v_category'])\n",
        "y_train = df2_train['risk_level']"
      ],
      "metadata": {
        "id": "vYDMBLDmDTGr"
      },
      "execution_count": 50,
      "outputs": []
    },
    {
      "cell_type": "code",
      "source": [
        "y_train.head()\n",
        "print(y_train.value_counts())"
      ],
      "metadata": {
        "colab": {
          "base_uri": "https://localhost:8080/"
        },
        "id": "Noruy2ULDZKa",
        "outputId": "1276b62c-b3f9-46fe-ed74-e7880927028d"
      },
      "execution_count": 6,
      "outputs": [
        {
          "output_type": "stream",
          "name": "stdout",
          "text": [
            "risk_level\n",
            "Low       28650\n",
            "High       1694\n",
            "Medium     1143\n",
            "Name: count, dtype: int64\n"
          ]
        }
      ]
    },
    {
      "cell_type": "code",
      "source": [
        "y_train_medium_vs_rest = y_train.apply(lambda x: 'Not Medium' if x != 'Medium' else 'Medium')\n",
        "y_train_medium_vs_rest.head()\n",
        "print(y_train_medium_vs_rest.value_counts())"
      ],
      "metadata": {
        "colab": {
          "base_uri": "https://localhost:8080/"
        },
        "id": "rZhGYjY5DcX3",
        "outputId": "66773516-9f1e-45c1-906b-fd62d6d6ea7e"
      },
      "execution_count": 7,
      "outputs": [
        {
          "output_type": "stream",
          "name": "stdout",
          "text": [
            "risk_level\n",
            "Not Medium    30344\n",
            "Medium         1143\n",
            "Name: count, dtype: int64\n"
          ]
        }
      ]
    },
    {
      "cell_type": "code",
      "source": [
        "scaler = StandardScaler()\n",
        "X_train_scaled = scaler.fit_transform(X_train)\n",
        "\n",
        "# Initialize and train the classifiers\n",
        "classifier_medium_vs_rest = SVC(kernel='poly', probability=True, random_state=42)\n",
        "#classifier_low_vs_rest = SVC(kernel='sigmoid', probability=True, random_state=42)\n",
        "#classifier_low_vs_rest = SVC(kernel='linear', decision_function_shape='ovr', probability=True, random_state=42)\n",
        "#classifier_low_vs_rest = SVC(kernel='rbf', probability=True, random_state=42)\n",
        "classifier_medium_vs_rest.fit(X_train_scaled, y_train_medium_vs_rest)"
      ],
      "metadata": {
        "colab": {
          "base_uri": "https://localhost:8080/",
          "height": 74
        },
        "id": "627_U3jkDuW1",
        "outputId": "09074be0-5573-41c8-991c-a95b496641ec"
      },
      "execution_count": 8,
      "outputs": [
        {
          "output_type": "execute_result",
          "data": {
            "text/plain": [
              "SVC(kernel='poly', probability=True, random_state=42)"
            ],
            "text/html": [
              "<style>#sk-container-id-1 {color: black;background-color: white;}#sk-container-id-1 pre{padding: 0;}#sk-container-id-1 div.sk-toggleable {background-color: white;}#sk-container-id-1 label.sk-toggleable__label {cursor: pointer;display: block;width: 100%;margin-bottom: 0;padding: 0.3em;box-sizing: border-box;text-align: center;}#sk-container-id-1 label.sk-toggleable__label-arrow:before {content: \"▸\";float: left;margin-right: 0.25em;color: #696969;}#sk-container-id-1 label.sk-toggleable__label-arrow:hover:before {color: black;}#sk-container-id-1 div.sk-estimator:hover label.sk-toggleable__label-arrow:before {color: black;}#sk-container-id-1 div.sk-toggleable__content {max-height: 0;max-width: 0;overflow: hidden;text-align: left;background-color: #f0f8ff;}#sk-container-id-1 div.sk-toggleable__content pre {margin: 0.2em;color: black;border-radius: 0.25em;background-color: #f0f8ff;}#sk-container-id-1 input.sk-toggleable__control:checked~div.sk-toggleable__content {max-height: 200px;max-width: 100%;overflow: auto;}#sk-container-id-1 input.sk-toggleable__control:checked~label.sk-toggleable__label-arrow:before {content: \"▾\";}#sk-container-id-1 div.sk-estimator input.sk-toggleable__control:checked~label.sk-toggleable__label {background-color: #d4ebff;}#sk-container-id-1 div.sk-label input.sk-toggleable__control:checked~label.sk-toggleable__label {background-color: #d4ebff;}#sk-container-id-1 input.sk-hidden--visually {border: 0;clip: rect(1px 1px 1px 1px);clip: rect(1px, 1px, 1px, 1px);height: 1px;margin: -1px;overflow: hidden;padding: 0;position: absolute;width: 1px;}#sk-container-id-1 div.sk-estimator {font-family: monospace;background-color: #f0f8ff;border: 1px dotted black;border-radius: 0.25em;box-sizing: border-box;margin-bottom: 0.5em;}#sk-container-id-1 div.sk-estimator:hover {background-color: #d4ebff;}#sk-container-id-1 div.sk-parallel-item::after {content: \"\";width: 100%;border-bottom: 1px solid gray;flex-grow: 1;}#sk-container-id-1 div.sk-label:hover label.sk-toggleable__label {background-color: #d4ebff;}#sk-container-id-1 div.sk-serial::before {content: \"\";position: absolute;border-left: 1px solid gray;box-sizing: border-box;top: 0;bottom: 0;left: 50%;z-index: 0;}#sk-container-id-1 div.sk-serial {display: flex;flex-direction: column;align-items: center;background-color: white;padding-right: 0.2em;padding-left: 0.2em;position: relative;}#sk-container-id-1 div.sk-item {position: relative;z-index: 1;}#sk-container-id-1 div.sk-parallel {display: flex;align-items: stretch;justify-content: center;background-color: white;position: relative;}#sk-container-id-1 div.sk-item::before, #sk-container-id-1 div.sk-parallel-item::before {content: \"\";position: absolute;border-left: 1px solid gray;box-sizing: border-box;top: 0;bottom: 0;left: 50%;z-index: -1;}#sk-container-id-1 div.sk-parallel-item {display: flex;flex-direction: column;z-index: 1;position: relative;background-color: white;}#sk-container-id-1 div.sk-parallel-item:first-child::after {align-self: flex-end;width: 50%;}#sk-container-id-1 div.sk-parallel-item:last-child::after {align-self: flex-start;width: 50%;}#sk-container-id-1 div.sk-parallel-item:only-child::after {width: 0;}#sk-container-id-1 div.sk-dashed-wrapped {border: 1px dashed gray;margin: 0 0.4em 0.5em 0.4em;box-sizing: border-box;padding-bottom: 0.4em;background-color: white;}#sk-container-id-1 div.sk-label label {font-family: monospace;font-weight: bold;display: inline-block;line-height: 1.2em;}#sk-container-id-1 div.sk-label-container {text-align: center;}#sk-container-id-1 div.sk-container {/* jupyter's `normalize.less` sets `[hidden] { display: none; }` but bootstrap.min.css set `[hidden] { display: none !important; }` so we also need the `!important` here to be able to override the default hidden behavior on the sphinx rendered scikit-learn.org. See: https://github.com/scikit-learn/scikit-learn/issues/21755 */display: inline-block !important;position: relative;}#sk-container-id-1 div.sk-text-repr-fallback {display: none;}</style><div id=\"sk-container-id-1\" class=\"sk-top-container\"><div class=\"sk-text-repr-fallback\"><pre>SVC(kernel=&#x27;poly&#x27;, probability=True, random_state=42)</pre><b>In a Jupyter environment, please rerun this cell to show the HTML representation or trust the notebook. <br />On GitHub, the HTML representation is unable to render, please try loading this page with nbviewer.org.</b></div><div class=\"sk-container\" hidden><div class=\"sk-item\"><div class=\"sk-estimator sk-toggleable\"><input class=\"sk-toggleable__control sk-hidden--visually\" id=\"sk-estimator-id-1\" type=\"checkbox\" checked><label for=\"sk-estimator-id-1\" class=\"sk-toggleable__label sk-toggleable__label-arrow\">SVC</label><div class=\"sk-toggleable__content\"><pre>SVC(kernel=&#x27;poly&#x27;, probability=True, random_state=42)</pre></div></div></div></div></div>"
            ]
          },
          "metadata": {},
          "execution_count": 8
        }
      ]
    },
    {
      "cell_type": "code",
      "source": [
        "X_test4 = df2_test4.drop(columns=['ChassisId_encoded', 'gen', 'risk_level', 'v_category'])\n",
        "X_test4_scaled = scaler.transform(X_test4)\n",
        "\n",
        "# Predict probabilities for each class\n",
        "y_pred_4_medium_prob = classifier_medium_vs_rest.predict_proba(X_test4_scaled)[:, 1]"
      ],
      "metadata": {
        "id": "OULpsZ6nEGls"
      },
      "execution_count": 9,
      "outputs": []
    },
    {
      "cell_type": "code",
      "source": [
        "ytrain_comp = pd.DataFrame()\n",
        "ytrain_comp['risk_level'] = y_train_medium_vs_rest\n",
        "ytrain_comp['prob'] = y_pred_4_medium_prob\n",
        "ytrain_comp.head()"
      ],
      "metadata": {
        "colab": {
          "base_uri": "https://localhost:8080/",
          "height": 206
        },
        "id": "P--nq_mhESWH",
        "outputId": "c290db2d-6fc5-4180-90c5-d976c334d3d4"
      },
      "execution_count": 10,
      "outputs": [
        {
          "output_type": "execute_result",
          "data": {
            "text/plain": [
              "   risk_level      prob\n",
              "0  Not Medium  0.981471\n",
              "1  Not Medium  0.973956\n",
              "2  Not Medium  0.981067\n",
              "3  Not Medium  0.982641\n",
              "4  Not Medium  0.985286"
            ],
            "text/html": [
              "\n",
              "  <div id=\"df-d454a71e-dac7-4959-9f74-c69b1ea073a9\" class=\"colab-df-container\">\n",
              "    <div>\n",
              "<style scoped>\n",
              "    .dataframe tbody tr th:only-of-type {\n",
              "        vertical-align: middle;\n",
              "    }\n",
              "\n",
              "    .dataframe tbody tr th {\n",
              "        vertical-align: top;\n",
              "    }\n",
              "\n",
              "    .dataframe thead th {\n",
              "        text-align: right;\n",
              "    }\n",
              "</style>\n",
              "<table border=\"1\" class=\"dataframe\">\n",
              "  <thead>\n",
              "    <tr style=\"text-align: right;\">\n",
              "      <th></th>\n",
              "      <th>risk_level</th>\n",
              "      <th>prob</th>\n",
              "    </tr>\n",
              "  </thead>\n",
              "  <tbody>\n",
              "    <tr>\n",
              "      <th>0</th>\n",
              "      <td>Not Medium</td>\n",
              "      <td>0.981471</td>\n",
              "    </tr>\n",
              "    <tr>\n",
              "      <th>1</th>\n",
              "      <td>Not Medium</td>\n",
              "      <td>0.973956</td>\n",
              "    </tr>\n",
              "    <tr>\n",
              "      <th>2</th>\n",
              "      <td>Not Medium</td>\n",
              "      <td>0.981067</td>\n",
              "    </tr>\n",
              "    <tr>\n",
              "      <th>3</th>\n",
              "      <td>Not Medium</td>\n",
              "      <td>0.982641</td>\n",
              "    </tr>\n",
              "    <tr>\n",
              "      <th>4</th>\n",
              "      <td>Not Medium</td>\n",
              "      <td>0.985286</td>\n",
              "    </tr>\n",
              "  </tbody>\n",
              "</table>\n",
              "</div>\n",
              "    <div class=\"colab-df-buttons\">\n",
              "\n",
              "  <div class=\"colab-df-container\">\n",
              "    <button class=\"colab-df-convert\" onclick=\"convertToInteractive('df-d454a71e-dac7-4959-9f74-c69b1ea073a9')\"\n",
              "            title=\"Convert this dataframe to an interactive table.\"\n",
              "            style=\"display:none;\">\n",
              "\n",
              "  <svg xmlns=\"http://www.w3.org/2000/svg\" height=\"24px\" viewBox=\"0 -960 960 960\">\n",
              "    <path d=\"M120-120v-720h720v720H120Zm60-500h600v-160H180v160Zm220 220h160v-160H400v160Zm0 220h160v-160H400v160ZM180-400h160v-160H180v160Zm440 0h160v-160H620v160ZM180-180h160v-160H180v160Zm440 0h160v-160H620v160Z\"/>\n",
              "  </svg>\n",
              "    </button>\n",
              "\n",
              "  <style>\n",
              "    .colab-df-container {\n",
              "      display:flex;\n",
              "      gap: 12px;\n",
              "    }\n",
              "\n",
              "    .colab-df-convert {\n",
              "      background-color: #E8F0FE;\n",
              "      border: none;\n",
              "      border-radius: 50%;\n",
              "      cursor: pointer;\n",
              "      display: none;\n",
              "      fill: #1967D2;\n",
              "      height: 32px;\n",
              "      padding: 0 0 0 0;\n",
              "      width: 32px;\n",
              "    }\n",
              "\n",
              "    .colab-df-convert:hover {\n",
              "      background-color: #E2EBFA;\n",
              "      box-shadow: 0px 1px 2px rgba(60, 64, 67, 0.3), 0px 1px 3px 1px rgba(60, 64, 67, 0.15);\n",
              "      fill: #174EA6;\n",
              "    }\n",
              "\n",
              "    .colab-df-buttons div {\n",
              "      margin-bottom: 4px;\n",
              "    }\n",
              "\n",
              "    [theme=dark] .colab-df-convert {\n",
              "      background-color: #3B4455;\n",
              "      fill: #D2E3FC;\n",
              "    }\n",
              "\n",
              "    [theme=dark] .colab-df-convert:hover {\n",
              "      background-color: #434B5C;\n",
              "      box-shadow: 0px 1px 3px 1px rgba(0, 0, 0, 0.15);\n",
              "      filter: drop-shadow(0px 1px 2px rgba(0, 0, 0, 0.3));\n",
              "      fill: #FFFFFF;\n",
              "    }\n",
              "  </style>\n",
              "\n",
              "    <script>\n",
              "      const buttonEl =\n",
              "        document.querySelector('#df-d454a71e-dac7-4959-9f74-c69b1ea073a9 button.colab-df-convert');\n",
              "      buttonEl.style.display =\n",
              "        google.colab.kernel.accessAllowed ? 'block' : 'none';\n",
              "\n",
              "      async function convertToInteractive(key) {\n",
              "        const element = document.querySelector('#df-d454a71e-dac7-4959-9f74-c69b1ea073a9');\n",
              "        const dataTable =\n",
              "          await google.colab.kernel.invokeFunction('convertToInteractive',\n",
              "                                                    [key], {});\n",
              "        if (!dataTable) return;\n",
              "\n",
              "        const docLinkHtml = 'Like what you see? Visit the ' +\n",
              "          '<a target=\"_blank\" href=https://colab.research.google.com/notebooks/data_table.ipynb>data table notebook</a>'\n",
              "          + ' to learn more about interactive tables.';\n",
              "        element.innerHTML = '';\n",
              "        dataTable['output_type'] = 'display_data';\n",
              "        await google.colab.output.renderOutput(dataTable, element);\n",
              "        const docLink = document.createElement('div');\n",
              "        docLink.innerHTML = docLinkHtml;\n",
              "        element.appendChild(docLink);\n",
              "      }\n",
              "    </script>\n",
              "  </div>\n",
              "\n",
              "\n",
              "<div id=\"df-7ba38b92-adb2-48cb-84fa-eca5bfd3182d\">\n",
              "  <button class=\"colab-df-quickchart\" onclick=\"quickchart('df-7ba38b92-adb2-48cb-84fa-eca5bfd3182d')\"\n",
              "            title=\"Suggest charts\"\n",
              "            style=\"display:none;\">\n",
              "\n",
              "<svg xmlns=\"http://www.w3.org/2000/svg\" height=\"24px\"viewBox=\"0 0 24 24\"\n",
              "     width=\"24px\">\n",
              "    <g>\n",
              "        <path d=\"M19 3H5c-1.1 0-2 .9-2 2v14c0 1.1.9 2 2 2h14c1.1 0 2-.9 2-2V5c0-1.1-.9-2-2-2zM9 17H7v-7h2v7zm4 0h-2V7h2v10zm4 0h-2v-4h2v4z\"/>\n",
              "    </g>\n",
              "</svg>\n",
              "  </button>\n",
              "\n",
              "<style>\n",
              "  .colab-df-quickchart {\n",
              "      --bg-color: #E8F0FE;\n",
              "      --fill-color: #1967D2;\n",
              "      --hover-bg-color: #E2EBFA;\n",
              "      --hover-fill-color: #174EA6;\n",
              "      --disabled-fill-color: #AAA;\n",
              "      --disabled-bg-color: #DDD;\n",
              "  }\n",
              "\n",
              "  [theme=dark] .colab-df-quickchart {\n",
              "      --bg-color: #3B4455;\n",
              "      --fill-color: #D2E3FC;\n",
              "      --hover-bg-color: #434B5C;\n",
              "      --hover-fill-color: #FFFFFF;\n",
              "      --disabled-bg-color: #3B4455;\n",
              "      --disabled-fill-color: #666;\n",
              "  }\n",
              "\n",
              "  .colab-df-quickchart {\n",
              "    background-color: var(--bg-color);\n",
              "    border: none;\n",
              "    border-radius: 50%;\n",
              "    cursor: pointer;\n",
              "    display: none;\n",
              "    fill: var(--fill-color);\n",
              "    height: 32px;\n",
              "    padding: 0;\n",
              "    width: 32px;\n",
              "  }\n",
              "\n",
              "  .colab-df-quickchart:hover {\n",
              "    background-color: var(--hover-bg-color);\n",
              "    box-shadow: 0 1px 2px rgba(60, 64, 67, 0.3), 0 1px 3px 1px rgba(60, 64, 67, 0.15);\n",
              "    fill: var(--button-hover-fill-color);\n",
              "  }\n",
              "\n",
              "  .colab-df-quickchart-complete:disabled,\n",
              "  .colab-df-quickchart-complete:disabled:hover {\n",
              "    background-color: var(--disabled-bg-color);\n",
              "    fill: var(--disabled-fill-color);\n",
              "    box-shadow: none;\n",
              "  }\n",
              "\n",
              "  .colab-df-spinner {\n",
              "    border: 2px solid var(--fill-color);\n",
              "    border-color: transparent;\n",
              "    border-bottom-color: var(--fill-color);\n",
              "    animation:\n",
              "      spin 1s steps(1) infinite;\n",
              "  }\n",
              "\n",
              "  @keyframes spin {\n",
              "    0% {\n",
              "      border-color: transparent;\n",
              "      border-bottom-color: var(--fill-color);\n",
              "      border-left-color: var(--fill-color);\n",
              "    }\n",
              "    20% {\n",
              "      border-color: transparent;\n",
              "      border-left-color: var(--fill-color);\n",
              "      border-top-color: var(--fill-color);\n",
              "    }\n",
              "    30% {\n",
              "      border-color: transparent;\n",
              "      border-left-color: var(--fill-color);\n",
              "      border-top-color: var(--fill-color);\n",
              "      border-right-color: var(--fill-color);\n",
              "    }\n",
              "    40% {\n",
              "      border-color: transparent;\n",
              "      border-right-color: var(--fill-color);\n",
              "      border-top-color: var(--fill-color);\n",
              "    }\n",
              "    60% {\n",
              "      border-color: transparent;\n",
              "      border-right-color: var(--fill-color);\n",
              "    }\n",
              "    80% {\n",
              "      border-color: transparent;\n",
              "      border-right-color: var(--fill-color);\n",
              "      border-bottom-color: var(--fill-color);\n",
              "    }\n",
              "    90% {\n",
              "      border-color: transparent;\n",
              "      border-bottom-color: var(--fill-color);\n",
              "    }\n",
              "  }\n",
              "</style>\n",
              "\n",
              "  <script>\n",
              "    async function quickchart(key) {\n",
              "      const quickchartButtonEl =\n",
              "        document.querySelector('#' + key + ' button');\n",
              "      quickchartButtonEl.disabled = true;  // To prevent multiple clicks.\n",
              "      quickchartButtonEl.classList.add('colab-df-spinner');\n",
              "      try {\n",
              "        const charts = await google.colab.kernel.invokeFunction(\n",
              "            'suggestCharts', [key], {});\n",
              "      } catch (error) {\n",
              "        console.error('Error during call to suggestCharts:', error);\n",
              "      }\n",
              "      quickchartButtonEl.classList.remove('colab-df-spinner');\n",
              "      quickchartButtonEl.classList.add('colab-df-quickchart-complete');\n",
              "    }\n",
              "    (() => {\n",
              "      let quickchartButtonEl =\n",
              "        document.querySelector('#df-7ba38b92-adb2-48cb-84fa-eca5bfd3182d button');\n",
              "      quickchartButtonEl.style.display =\n",
              "        google.colab.kernel.accessAllowed ? 'block' : 'none';\n",
              "    })();\n",
              "  </script>\n",
              "</div>\n",
              "    </div>\n",
              "  </div>\n"
            ],
            "application/vnd.google.colaboratory.intrinsic+json": {
              "type": "dataframe",
              "variable_name": "ytrain_comp",
              "summary": "{\n  \"name\": \"ytrain_comp\",\n  \"rows\": 31487,\n  \"fields\": [\n    {\n      \"column\": \"risk_level\",\n      \"properties\": {\n        \"dtype\": \"category\",\n        \"num_unique_values\": 2,\n        \"samples\": [\n          \"Medium\",\n          \"Not Medium\"\n        ],\n        \"semantic_type\": \"\",\n        \"description\": \"\"\n      }\n    },\n    {\n      \"column\": \"prob\",\n      \"properties\": {\n        \"dtype\": \"number\",\n        \"std\": 0.07498015985621853,\n        \"min\": 0.013875037368251013,\n        \"max\": 0.9999999999999699,\n        \"num_unique_values\": 31323,\n        \"samples\": [\n          0.9706051692797643,\n          0.972545074692389\n        ],\n        \"semantic_type\": \"\",\n        \"description\": \"\"\n      }\n    }\n  ]\n}"
            }
          },
          "metadata": {},
          "execution_count": 10
        }
      ]
    },
    {
      "cell_type": "code",
      "source": [
        "medium_risk_df = ytrain_comp[ytrain_comp['risk_level'] == 'Medium']\n",
        "\n",
        "# Plot the histogram of the 'prob' column for these rows\n",
        "plt.hist(medium_risk_df['prob'], bins=200, edgecolor='black')\n",
        "plt.xlabel('Probability')\n",
        "plt.ylabel('Frequency')\n",
        "plt.title('Histogram of Probabilities for Medium Risk Level')\n",
        "plt.show()"
      ],
      "metadata": {
        "colab": {
          "base_uri": "https://localhost:8080/",
          "height": 472
        },
        "id": "tR9efEzhE3PR",
        "outputId": "93ba54fe-e65d-4649-9ebb-41e5e7f94377"
      },
      "execution_count": 16,
      "outputs": [
        {
          "output_type": "display_data",
          "data": {
            "text/plain": [
              "<Figure size 640x480 with 1 Axes>"
            ],
            "image/png": "[encoded data removed]"
          },
          "metadata": {}
        }
      ]
    },
    {
      "cell_type": "code",
      "source": [
        "not_medium_risk_df = ytrain_comp[ytrain_comp['risk_level'] == 'Not Medium']\n",
        "\n",
        "# Plot the histogram of the 'prob' column for these rows\n",
        "plt.hist(not_medium_risk_df['prob'], bins=200, edgecolor='black')\n",
        "plt.xlabel('Probability')\n",
        "plt.ylabel('Frequency')\n",
        "plt.title('Histogram of Probabilities for not medium Risk Level')\n",
        "plt.show()"
      ],
      "metadata": {
        "colab": {
          "base_uri": "https://localhost:8080/",
          "height": 472
        },
        "id": "P_gxlCM2FJyC",
        "outputId": "50c73af3-1f10-4144-c740-eac44dc1f14e"
      },
      "execution_count": 17,
      "outputs": [
        {
          "output_type": "display_data",
          "data": {
            "text/plain": [
              "<Figure size 640x480 with 1 Axes>"
            ],
            "image/png": "[encoded data removed]"
          },
          "metadata": {}
        }
      ]
    },
    {
      "cell_type": "code",
      "source": [
        "print(y_pred_4_medium_prob)\n",
        "plt.hist(y_pred_4_medium_prob, bins=20, edgecolor='k')\n",
        "plt.title('Histogram of Predicted Probabilities for Test4')\n",
        "plt.xlabel('Probability')\n",
        "plt.ylabel('Frequency')\n",
        "plt.show()"
      ],
      "metadata": {
        "colab": {
          "base_uri": "https://localhost:8080/",
          "height": 489
        },
        "id": "zbk0VvK7FW2d",
        "outputId": "8b6d2875-e123-4d9b-de69-a1bd311c074a"
      },
      "execution_count": 13,
      "outputs": [
        {
          "output_type": "stream",
          "name": "stdout",
          "text": [
            "[0.98147129 0.97395573 0.98106734 ... 0.54044082 0.96218858 0.9640429 ]\n"
          ]
        },
        {
          "output_type": "display_data",
          "data": {
            "text/plain": [
              "<Figure size 640x480 with 1 Axes>"
            ],
            "image/png": "[encoded data removed]"
          },
          "metadata": {}
        }
      ]
    },
    {
      "cell_type": "code",
      "source": [
        "threshold = 0.95\n",
        "final_predictions_4 = apply_threshold(y_pred_4_medium_prob, threshold)\n",
        "final_predictions_4 = pd.Series(final_predictions_4, index=X_test4.index)\n",
        "\n",
        "# Evaluate the results\n",
        "df2_test4_ = df2_test4.copy()\n",
        "df2_test4_['risk_level_binary'] = df2_test4['risk_level'].apply(lambda x: 'Medium' if x == 'Medium' else 'Not Medium')\n",
        "\n",
        "# Create a DataFrame for true labels and predictions\n",
        "y4_true = pd.DataFrame()\n",
        "y4_true['risk_level'] = df2_test4_['risk_level_binary']\n",
        "y4_true['pred'] = final_predictions_4"
      ],
      "metadata": {
        "colab": {
          "base_uri": "https://localhost:8080/"
        },
        "id": "WmVA3He6FqSS",
        "outputId": "e9c9ec5e-7a7a-4c22-ca06-f62d93fc6af5"
      },
      "execution_count": 32,
      "outputs": [
        {
          "output_type": "stream",
          "name": "stdout",
          "text": [
            "threshold 0.95\n"
          ]
        }
      ]
    },
    {
      "cell_type": "code",
      "source": [
        "print(y4_true['risk_level'].value_counts())\n",
        "print(y4_true['pred'].value_counts())\n",
        "score4 = macro_avg_f1(y4_true['risk_level'], y4_true['pred'])\n",
        "print('\\nScores1 Details:\\n', score4)\n",
        "accuracy = (y4_true['risk_level'] == y4_true['pred']).mean()\n",
        "print(\"Accuracy:\", accuracy)"
      ],
      "metadata": {
        "colab": {
          "base_uri": "https://localhost:8080/"
        },
        "id": "YIB_QmCWF-Ce",
        "outputId": "919cb022-6ad0-4f87-ffcb-bddf3c9cecee"
      },
      "execution_count": 33,
      "outputs": [
        {
          "output_type": "stream",
          "name": "stdout",
          "text": [
            "risk_level\n",
            "Not Medium    30344\n",
            "Medium         1143\n",
            "Name: count, dtype: int64\n",
            "pred\n",
            "Not Medium    30011\n",
            "Medium         1476\n",
            "Name: count, dtype: int64\n",
            "\n",
            "Scores1 Details:\n",
            " 0.86\n",
            "Accuracy: 0.9775462889446438\n"
          ]
        }
      ]
    },
    {
      "cell_type": "code",
      "source": [
        "high_low_filter = y_train != 'Medium'\n",
        "X_train_high_low = X_train[high_low_filter]\n",
        "y_train_high_vs_low = y_train[high_low_filter]\n",
        "X_train_high_low_scaled = scaler.transform(X_train_high_low)"
      ],
      "metadata": {
        "id": "Urt7wbTXGC5R"
      },
      "execution_count": 34,
      "outputs": []
    },
    {
      "cell_type": "code",
      "source": [
        "print(len(y_train_high_vs_low))"
      ],
      "metadata": {
        "colab": {
          "base_uri": "https://localhost:8080/"
        },
        "id": "ZKc7wE1JHcwo",
        "outputId": "2c248a90-1c31-4d59-ddba-4f60512d23c8"
      },
      "execution_count": 35,
      "outputs": [
        {
          "output_type": "stream",
          "name": "stdout",
          "text": [
            "30344\n"
          ]
        }
      ]
    },
    {
      "cell_type": "code",
      "source": [
        "#classifier_high_vs_medium = SVC(kernel='poly', probability=True, random_state=42)\n",
        "classifier_high_vs_low = SVC(kernel='linear', decision_function_shape='ovr', probability=True, random_state=42)\n",
        "classifier_high_vs_low.fit(X_train_high_low_scaled, y_train_high_vs_low)"
      ],
      "metadata": {
        "colab": {
          "base_uri": "https://localhost:8080/",
          "height": 74
        },
        "id": "SrUsDiZQHhEN",
        "outputId": "33701109-b3e1-4c47-d3c9-4468a1b9624d"
      },
      "execution_count": 36,
      "outputs": [
        {
          "output_type": "execute_result",
          "data": {
            "text/plain": [
              "SVC(kernel='linear', probability=True, random_state=42)"
            ],
            "text/html": [
              "<style>#sk-container-id-2 {color: black;background-color: white;}#sk-container-id-2 pre{padding: 0;}#sk-container-id-2 div.sk-toggleable {background-color: white;}#sk-container-id-2 label.sk-toggleable__label {cursor: pointer;display: block;width: 100%;margin-bottom: 0;padding: 0.3em;box-sizing: border-box;text-align: center;}#sk-container-id-2 label.sk-toggleable__label-arrow:before {content: \"▸\";float: left;margin-right: 0.25em;color: #696969;}#sk-container-id-2 label.sk-toggleable__label-arrow:hover:before {color: black;}#sk-container-id-2 div.sk-estimator:hover label.sk-toggleable__label-arrow:before {color: black;}#sk-container-id-2 div.sk-toggleable__content {max-height: 0;max-width: 0;overflow: hidden;text-align: left;background-color: #f0f8ff;}#sk-container-id-2 div.sk-toggleable__content pre {margin: 0.2em;color: black;border-radius: 0.25em;background-color: #f0f8ff;}#sk-container-id-2 input.sk-toggleable__control:checked~div.sk-toggleable__content {max-height: 200px;max-width: 100%;overflow: auto;}#sk-container-id-2 input.sk-toggleable__control:checked~label.sk-toggleable__label-arrow:before {content: \"▾\";}#sk-container-id-2 div.sk-estimator input.sk-toggleable__control:checked~label.sk-toggleable__label {background-color: #d4ebff;}#sk-container-id-2 div.sk-label input.sk-toggleable__control:checked~label.sk-toggleable__label {background-color: #d4ebff;}#sk-container-id-2 input.sk-hidden--visually {border: 0;clip: rect(1px 1px 1px 1px);clip: rect(1px, 1px, 1px, 1px);height: 1px;margin: -1px;overflow: hidden;padding: 0;position: absolute;width: 1px;}#sk-container-id-2 div.sk-estimator {font-family: monospace;background-color: #f0f8ff;border: 1px dotted black;border-radius: 0.25em;box-sizing: border-box;margin-bottom: 0.5em;}#sk-container-id-2 div.sk-estimator:hover {background-color: #d4ebff;}#sk-container-id-2 div.sk-parallel-item::after {content: \"\";width: 100%;border-bottom: 1px solid gray;flex-grow: 1;}#sk-container-id-2 div.sk-label:hover label.sk-toggleable__label {background-color: #d4ebff;}#sk-container-id-2 div.sk-serial::before {content: \"\";position: absolute;border-left: 1px solid gray;box-sizing: border-box;top: 0;bottom: 0;left: 50%;z-index: 0;}#sk-container-id-2 div.sk-serial {display: flex;flex-direction: column;align-items: center;background-color: white;padding-right: 0.2em;padding-left: 0.2em;position: relative;}#sk-container-id-2 div.sk-item {position: relative;z-index: 1;}#sk-container-id-2 div.sk-parallel {display: flex;align-items: stretch;justify-content: center;background-color: white;position: relative;}#sk-container-id-2 div.sk-item::before, #sk-container-id-2 div.sk-parallel-item::before {content: \"\";position: absolute;border-left: 1px solid gray;box-sizing: border-box;top: 0;bottom: 0;left: 50%;z-index: -1;}#sk-container-id-2 div.sk-parallel-item {display: flex;flex-direction: column;z-index: 1;position: relative;background-color: white;}#sk-container-id-2 div.sk-parallel-item:first-child::after {align-self: flex-end;width: 50%;}#sk-container-id-2 div.sk-parallel-item:last-child::after {align-self: flex-start;width: 50%;}#sk-container-id-2 div.sk-parallel-item:only-child::after {width: 0;}#sk-container-id-2 div.sk-dashed-wrapped {border: 1px dashed gray;margin: 0 0.4em 0.5em 0.4em;box-sizing: border-box;padding-bottom: 0.4em;background-color: white;}#sk-container-id-2 div.sk-label label {font-family: monospace;font-weight: bold;display: inline-block;line-height: 1.2em;}#sk-container-id-2 div.sk-label-container {text-align: center;}#sk-container-id-2 div.sk-container {/* jupyter's `normalize.less` sets `[hidden] { display: none; }` but bootstrap.min.css set `[hidden] { display: none !important; }` so we also need the `!important` here to be able to override the default hidden behavior on the sphinx rendered scikit-learn.org. See: https://github.com/scikit-learn/scikit-learn/issues/21755 */display: inline-block !important;position: relative;}#sk-container-id-2 div.sk-text-repr-fallback {display: none;}</style><div id=\"sk-container-id-2\" class=\"sk-top-container\"><div class=\"sk-text-repr-fallback\"><pre>SVC(kernel=&#x27;linear&#x27;, probability=True, random_state=42)</pre><b>In a Jupyter environment, please rerun this cell to show the HTML representation or trust the notebook. <br />On GitHub, the HTML representation is unable to render, please try loading this page with nbviewer.org.</b></div><div class=\"sk-container\" hidden><div class=\"sk-item\"><div class=\"sk-estimator sk-toggleable\"><input class=\"sk-toggleable__control sk-hidden--visually\" id=\"sk-estimator-id-2\" type=\"checkbox\" checked><label for=\"sk-estimator-id-2\" class=\"sk-toggleable__label sk-toggleable__label-arrow\">SVC</label><div class=\"sk-toggleable__content\"><pre>SVC(kernel=&#x27;linear&#x27;, probability=True, random_state=42)</pre></div></div></div></div></div>"
            ]
          },
          "metadata": {},
          "execution_count": 36
        }
      ]
    },
    {
      "cell_type": "code",
      "source": [
        "X_test4_hl = df2_test4.drop(columns=['ChassisId_encoded', 'gen', 'risk_level', 'v_category'])\n",
        "X_test4_hl = X_test4_hl[high_low_filter]\n",
        "X_test4_hl_scaled = scaler.transform(X_test4_hl)\n",
        "\n",
        "# Predict probabilities for each class\n",
        "y_pred_4_hl_prob = classifier_high_vs_low.predict_proba(X_test4_hl_scaled)[:, 1]"
      ],
      "metadata": {
        "id": "PMG45Dl0Hz6M"
      },
      "execution_count": 37,
      "outputs": []
    },
    {
      "cell_type": "code",
      "source": [
        "yhl_train_comp = pd.DataFrame()\n",
        "yhl_train_comp['risk_level'] = y_train_high_vs_low\n",
        "yhl_train_comp['prob'] = y_pred_4_hl_prob\n",
        "yhl_train_comp.head()"
      ],
      "metadata": {
        "colab": {
          "base_uri": "https://localhost:8080/",
          "height": 206
        },
        "id": "poaXmo44IV8h",
        "outputId": "0f8760ea-677d-46a0-c09d-1317c57fe230"
      },
      "execution_count": 38,
      "outputs": [
        {
          "output_type": "execute_result",
          "data": {
            "text/plain": [
              "  risk_level      prob\n",
              "0        Low  1.000000\n",
              "1        Low  1.000000\n",
              "2        Low  1.000000\n",
              "3        Low  1.000000\n",
              "4        Low  0.999997"
            ],
            "text/html": [
              "\n",
              "  <div id=\"df-614c9efe-3f55-4ec3-b56d-b32d2afd31a2\" class=\"colab-df-container\">\n",
              "    <div>\n",
              "<style scoped>\n",
              "    .dataframe tbody tr th:only-of-type {\n",
              "        vertical-align: middle;\n",
              "    }\n",
              "\n",
              "    .dataframe tbody tr th {\n",
              "        vertical-align: top;\n",
              "    }\n",
              "\n",
              "    .dataframe thead th {\n",
              "        text-align: right;\n",
              "    }\n",
              "</style>\n",
              "<table border=\"1\" class=\"dataframe\">\n",
              "  <thead>\n",
              "    <tr style=\"text-align: right;\">\n",
              "      <th></th>\n",
              "      <th>risk_level</th>\n",
              "      <th>prob</th>\n",
              "    </tr>\n",
              "  </thead>\n",
              "  <tbody>\n",
              "    <tr>\n",
              "      <th>0</th>\n",
              "      <td>Low</td>\n",
              "      <td>1.000000</td>\n",
              "    </tr>\n",
              "    <tr>\n",
              "      <th>1</th>\n",
              "      <td>Low</td>\n",
              "      <td>1.000000</td>\n",
              "    </tr>\n",
              "    <tr>\n",
              "      <th>2</th>\n",
              "      <td>Low</td>\n",
              "      <td>1.000000</td>\n",
              "    </tr>\n",
              "    <tr>\n",
              "      <th>3</th>\n",
              "      <td>Low</td>\n",
              "      <td>1.000000</td>\n",
              "    </tr>\n",
              "    <tr>\n",
              "      <th>4</th>\n",
              "      <td>Low</td>\n",
              "      <td>0.999997</td>\n",
              "    </tr>\n",
              "  </tbody>\n",
              "</table>\n",
              "</div>\n",
              "    <div class=\"colab-df-buttons\">\n",
              "\n",
              "  <div class=\"colab-df-container\">\n",
              "    <button class=\"colab-df-convert\" onclick=\"convertToInteractive('df-614c9efe-3f55-4ec3-b56d-b32d2afd31a2')\"\n",
              "            title=\"Convert this dataframe to an interactive table.\"\n",
              "            style=\"display:none;\">\n",
              "\n",
              "  <svg xmlns=\"http://www.w3.org/2000/svg\" height=\"24px\" viewBox=\"0 -960 960 960\">\n",
              "    <path d=\"M120-120v-720h720v720H120Zm60-500h600v-160H180v160Zm220 220h160v-160H400v160Zm0 220h160v-160H400v160ZM180-400h160v-160H180v160Zm440 0h160v-160H620v160ZM180-180h160v-160H180v160Zm440 0h160v-160H620v160Z\"/>\n",
              "  </svg>\n",
              "    </button>\n",
              "\n",
              "  <style>\n",
              "    .colab-df-container {\n",
              "      display:flex;\n",
              "      gap: 12px;\n",
              "    }\n",
              "\n",
              "    .colab-df-convert {\n",
              "      background-color: #E8F0FE;\n",
              "      border: none;\n",
              "      border-radius: 50%;\n",
              "      cursor: pointer;\n",
              "      display: none;\n",
              "      fill: #1967D2;\n",
              "      height: 32px;\n",
              "      padding: 0 0 0 0;\n",
              "      width: 32px;\n",
              "    }\n",
              "\n",
              "    .colab-df-convert:hover {\n",
              "      background-color: #E2EBFA;\n",
              "      box-shadow: 0px 1px 2px rgba(60, 64, 67, 0.3), 0px 1px 3px 1px rgba(60, 64, 67, 0.15);\n",
              "      fill: #174EA6;\n",
              "    }\n",
              "\n",
              "    .colab-df-buttons div {\n",
              "      margin-bottom: 4px;\n",
              "    }\n",
              "\n",
              "    [theme=dark] .colab-df-convert {\n",
              "      background-color: #3B4455;\n",
              "      fill: #D2E3FC;\n",
              "    }\n",
              "\n",
              "    [theme=dark] .colab-df-convert:hover {\n",
              "      background-color: #434B5C;\n",
              "      box-shadow: 0px 1px 3px 1px rgba(0, 0, 0, 0.15);\n",
              "      filter: drop-shadow(0px 1px 2px rgba(0, 0, 0, 0.3));\n",
              "      fill: #FFFFFF;\n",
              "    }\n",
              "  </style>\n",
              "\n",
              "    <script>\n",
              "      const buttonEl =\n",
              "        document.querySelector('#df-614c9efe-3f55-4ec3-b56d-b32d2afd31a2 button.colab-df-convert');\n",
              "      buttonEl.style.display =\n",
              "        google.colab.kernel.accessAllowed ? 'block' : 'none';\n",
              "\n",
              "      async function convertToInteractive(key) {\n",
              "        const element = document.querySelector('#df-614c9efe-3f55-4ec3-b56d-b32d2afd31a2');\n",
              "        const dataTable =\n",
              "          await google.colab.kernel.invokeFunction('convertToInteractive',\n",
              "                                                    [key], {});\n",
              "        if (!dataTable) return;\n",
              "\n",
              "        const docLinkHtml = 'Like what you see? Visit the ' +\n",
              "          '<a target=\"_blank\" href=https://colab.research.google.com/notebooks/data_table.ipynb>data table notebook</a>'\n",
              "          + ' to learn more about interactive tables.';\n",
              "        element.innerHTML = '';\n",
              "        dataTable['output_type'] = 'display_data';\n",
              "        await google.colab.output.renderOutput(dataTable, element);\n",
              "        const docLink = document.createElement('div');\n",
              "        docLink.innerHTML = docLinkHtml;\n",
              "        element.appendChild(docLink);\n",
              "      }\n",
              "    </script>\n",
              "  </div>\n",
              "\n",
              "\n",
              "<div id=\"df-c70fbea6-e31e-4744-88ee-82d8d0669efc\">\n",
              "  <button class=\"colab-df-quickchart\" onclick=\"quickchart('df-c70fbea6-e31e-4744-88ee-82d8d0669efc')\"\n",
              "            title=\"Suggest charts\"\n",
              "            style=\"display:none;\">\n",
              "\n",
              "<svg xmlns=\"http://www.w3.org/2000/svg\" height=\"24px\"viewBox=\"0 0 24 24\"\n",
              "     width=\"24px\">\n",
              "    <g>\n",
              "        <path d=\"M19 3H5c-1.1 0-2 .9-2 2v14c0 1.1.9 2 2 2h14c1.1 0 2-.9 2-2V5c0-1.1-.9-2-2-2zM9 17H7v-7h2v7zm4 0h-2V7h2v10zm4 0h-2v-4h2v4z\"/>\n",
              "    </g>\n",
              "</svg>\n",
              "  </button>\n",
              "\n",
              "<style>\n",
              "  .colab-df-quickchart {\n",
              "      --bg-color: #E8F0FE;\n",
              "      --fill-color: #1967D2;\n",
              "      --hover-bg-color: #E2EBFA;\n",
              "      --hover-fill-color: #174EA6;\n",
              "      --disabled-fill-color: #AAA;\n",
              "      --disabled-bg-color: #DDD;\n",
              "  }\n",
              "\n",
              "  [theme=dark] .colab-df-quickchart {\n",
              "      --bg-color: #3B4455;\n",
              "      --fill-color: #D2E3FC;\n",
              "      --hover-bg-color: #434B5C;\n",
              "      --hover-fill-color: #FFFFFF;\n",
              "      --disabled-bg-color: #3B4455;\n",
              "      --disabled-fill-color: #666;\n",
              "  }\n",
              "\n",
              "  .colab-df-quickchart {\n",
              "    background-color: var(--bg-color);\n",
              "    border: none;\n",
              "    border-radius: 50%;\n",
              "    cursor: pointer;\n",
              "    display: none;\n",
              "    fill: var(--fill-color);\n",
              "    height: 32px;\n",
              "    padding: 0;\n",
              "    width: 32px;\n",
              "  }\n",
              "\n",
              "  .colab-df-quickchart:hover {\n",
              "    background-color: var(--hover-bg-color);\n",
              "    box-shadow: 0 1px 2px rgba(60, 64, 67, 0.3), 0 1px 3px 1px rgba(60, 64, 67, 0.15);\n",
              "    fill: var(--button-hover-fill-color);\n",
              "  }\n",
              "\n",
              "  .colab-df-quickchart-complete:disabled,\n",
              "  .colab-df-quickchart-complete:disabled:hover {\n",
              "    background-color: var(--disabled-bg-color);\n",
              "    fill: var(--disabled-fill-color);\n",
              "    box-shadow: none;\n",
              "  }\n",
              "\n",
              "  .colab-df-spinner {\n",
              "    border: 2px solid var(--fill-color);\n",
              "    border-color: transparent;\n",
              "    border-bottom-color: var(--fill-color);\n",
              "    animation:\n",
              "      spin 1s steps(1) infinite;\n",
              "  }\n",
              "\n",
              "  @keyframes spin {\n",
              "    0% {\n",
              "      border-color: transparent;\n",
              "      border-bottom-color: var(--fill-color);\n",
              "      border-left-color: var(--fill-color);\n",
              "    }\n",
              "    20% {\n",
              "      border-color: transparent;\n",
              "      border-left-color: var(--fill-color);\n",
              "      border-top-color: var(--fill-color);\n",
              "    }\n",
              "    30% {\n",
              "      border-color: transparent;\n",
              "      border-left-color: var(--fill-color);\n",
              "      border-top-color: var(--fill-color);\n",
              "      border-right-color: var(--fill-color);\n",
              "    }\n",
              "    40% {\n",
              "      border-color: transparent;\n",
              "      border-right-color: var(--fill-color);\n",
              "      border-top-color: var(--fill-color);\n",
              "    }\n",
              "    60% {\n",
              "      border-color: transparent;\n",
              "      border-right-color: var(--fill-color);\n",
              "    }\n",
              "    80% {\n",
              "      border-color: transparent;\n",
              "      border-right-color: var(--fill-color);\n",
              "      border-bottom-color: var(--fill-color);\n",
              "    }\n",
              "    90% {\n",
              "      border-color: transparent;\n",
              "      border-bottom-color: var(--fill-color);\n",
              "    }\n",
              "  }\n",
              "</style>\n",
              "\n",
              "  <script>\n",
              "    async function quickchart(key) {\n",
              "      const quickchartButtonEl =\n",
              "        document.querySelector('#' + key + ' button');\n",
              "      quickchartButtonEl.disabled = true;  // To prevent multiple clicks.\n",
              "      quickchartButtonEl.classList.add('colab-df-spinner');\n",
              "      try {\n",
              "        const charts = await google.colab.kernel.invokeFunction(\n",
              "            'suggestCharts', [key], {});\n",
              "      } catch (error) {\n",
              "        console.error('Error during call to suggestCharts:', error);\n",
              "      }\n",
              "      quickchartButtonEl.classList.remove('colab-df-spinner');\n",
              "      quickchartButtonEl.classList.add('colab-df-quickchart-complete');\n",
              "    }\n",
              "    (() => {\n",
              "      let quickchartButtonEl =\n",
              "        document.querySelector('#df-c70fbea6-e31e-4744-88ee-82d8d0669efc button');\n",
              "      quickchartButtonEl.style.display =\n",
              "        google.colab.kernel.accessAllowed ? 'block' : 'none';\n",
              "    })();\n",
              "  </script>\n",
              "</div>\n",
              "    </div>\n",
              "  </div>\n"
            ],
            "application/vnd.google.colaboratory.intrinsic+json": {
              "type": "dataframe",
              "variable_name": "yhl_train_comp",
              "summary": "{\n  \"name\": \"yhl_train_comp\",\n  \"rows\": 30344,\n  \"fields\": [\n    {\n      \"column\": \"risk_level\",\n      \"properties\": {\n        \"dtype\": \"category\",\n        \"num_unique_values\": 2,\n        \"samples\": [\n          \"High\",\n          \"Low\"\n        ],\n        \"semantic_type\": \"\",\n        \"description\": \"\"\n      }\n    },\n    {\n      \"column\": \"prob\",\n      \"properties\": {\n        \"dtype\": \"number\",\n        \"std\": 0.20902520664355603,\n        \"min\": 4.5931004457364985e-06,\n        \"max\": 0.9999999999999699,\n        \"num_unique_values\": 29299,\n        \"samples\": [\n          0.9999999999703799,\n          0.9919402054526311\n        ],\n        \"semantic_type\": \"\",\n        \"description\": \"\"\n      }\n    }\n  ]\n}"
            }
          },
          "metadata": {},
          "execution_count": 38
        }
      ]
    },
    {
      "cell_type": "code",
      "source": [
        "low_risk_df = yhl_train_comp[yhl_train_comp['risk_level'] == 'Low']\n",
        "\n",
        "# Plot the histogram of the 'prob' column for these rows\n",
        "plt.hist(low_risk_df['prob'], bins=200, edgecolor='black')\n",
        "plt.xlabel('Probability')\n",
        "plt.ylabel('Frequency')\n",
        "plt.title('Histogram of Probabilities for Low Risk Level')\n",
        "plt.show()"
      ],
      "metadata": {
        "colab": {
          "base_uri": "https://localhost:8080/",
          "height": 472
        },
        "id": "uk0RYSuFIeNu",
        "outputId": "0509c6d9-74ee-443e-81e0-2ad8dd16f063"
      },
      "execution_count": 40,
      "outputs": [
        {
          "output_type": "display_data",
          "data": {
            "text/plain": [
              "<Figure size 640x480 with 1 Axes>"
            ],
            "image/png": "[encoded data removed]"
          },
          "metadata": {}
        }
      ]
    },
    {
      "cell_type": "code",
      "source": [
        "high_risk_df = yhl_train_comp[yhl_train_comp['risk_level'] == 'High']\n",
        "\n",
        "# Plot the histogram of the 'prob' column for these rows\n",
        "plt.hist(high_risk_df['prob'], bins=200, edgecolor='black')\n",
        "plt.xlabel('Probability')\n",
        "plt.ylabel('Frequency')\n",
        "plt.title('Histogram of Probabilities for High Risk Level')\n",
        "plt.show()"
      ],
      "metadata": {
        "colab": {
          "base_uri": "https://localhost:8080/",
          "height": 472
        },
        "id": "AxUk8hccI1DW",
        "outputId": "8ecb23bf-6f39-4fb5-f2f8-824ab4fab99d"
      },
      "execution_count": 41,
      "outputs": [
        {
          "output_type": "display_data",
          "data": {
            "text/plain": [
              "<Figure size 640x480 with 1 Axes>"
            ],
            "image/png": "[encoded data removed]"
          },
          "metadata": {}
        }
      ]
    },
    {
      "cell_type": "code",
      "source": [
        "print(y_pred_4_hl_prob)\n",
        "plt.hist(y_pred_4_hl_prob, bins=20, edgecolor='k')\n",
        "plt.title('Histogram of Predicted Probabilities for Test4 hl')\n",
        "plt.xlabel('Probability')\n",
        "plt.ylabel('Frequency')\n",
        "plt.show()"
      ],
      "metadata": {
        "colab": {
          "base_uri": "https://localhost:8080/",
          "height": 489
        },
        "id": "yJcwO6jmJAUy",
        "outputId": "d99073de-e73a-4b5b-c378-0e5d30afa9af"
      },
      "execution_count": 42,
      "outputs": [
        {
          "output_type": "stream",
          "name": "stdout",
          "text": [
            "[1.         1.         0.99999999 ... 0.99999744 0.10198405 0.02505561]\n"
          ]
        },
        {
          "output_type": "display_data",
          "data": {
            "text/plain": [
              "<Figure size 640x480 with 1 Axes>"
            ],
            "image/png": "[encoded data removed]"
          },
          "metadata": {}
        }
      ]
    },
    {
      "cell_type": "code",
      "source": [
        "def apply_threshold_hl(probs, threshold=0.5):\n",
        "    print(\"threshold\", threshold)\n",
        "    return np.where(probs <= threshold, 'High', 'Low')"
      ],
      "metadata": {
        "id": "DzUYJPOKJJTc"
      },
      "execution_count": 44,
      "outputs": []
    },
    {
      "cell_type": "code",
      "source": [
        "threshold = 0.7\n",
        "final_predictions_4_hl = apply_threshold_hl(y_pred_4_hl_prob, threshold)\n",
        "final_predictions_4_hl = pd.Series(final_predictions_4_hl, index=X_test4_hl.index)\n",
        "\n",
        "# Evaluate the results\n",
        "#df2_test4_ = df2_test4.copy()\n",
        "#df2_test4_['risk_level_binary'] = df2_test4['risk_level'].apply(lambda x: 'Low' if x == 'Low' else 'Not Low')\n",
        "\n",
        "# Create a DataFrame for true labels and predictions\n",
        "y4_true_hl = pd.DataFrame()\n",
        "y4_true_hl['risk_level'] = y_train_high_vs_low\n",
        "y4_true_hl['pred'] = final_predictions_4_hl"
      ],
      "metadata": {
        "colab": {
          "base_uri": "https://localhost:8080/"
        },
        "id": "idOuLM-mJQ5q",
        "outputId": "409e073b-9149-4837-c306-bbea1ffcd2f0"
      },
      "execution_count": 47,
      "outputs": [
        {
          "output_type": "stream",
          "name": "stdout",
          "text": [
            "threshold 0.7\n"
          ]
        }
      ]
    },
    {
      "cell_type": "code",
      "source": [
        "print(y4_true_hl['risk_level'].value_counts())\n",
        "print(y4_true_hl['pred'].value_counts())\n",
        "score4_hl = macro_avg_f1(y4_true_hl['risk_level'], y4_true_hl['pred'])\n",
        "print('\\nScores4_hl Details:\\n', score4_hl)\n",
        "accuracy = (y4_true_hl['risk_level'] == y4_true_hl['pred']).mean()\n",
        "print(\"Accuracy:\", accuracy)"
      ],
      "metadata": {
        "colab": {
          "base_uri": "https://localhost:8080/"
        },
        "id": "ijn0DtzAJkTb",
        "outputId": "d9a94eb2-dbd3-4205-d5a1-bb2857604d9a"
      },
      "execution_count": 48,
      "outputs": [
        {
          "output_type": "stream",
          "name": "stdout",
          "text": [
            "risk_level\n",
            "Low     28650\n",
            "High     1694\n",
            "Name: count, dtype: int64\n",
            "pred\n",
            "Low     28606\n",
            "High     1738\n",
            "Name: count, dtype: int64\n",
            "\n",
            "Scores4_hl Details:\n",
            " 0.96\n",
            "Accuracy: 0.9909702082784075\n"
          ]
        }
      ]
    },
    {
      "cell_type": "code",
      "source": [
        "X_test1 = df2_test1.drop(columns=['ChassisId_encoded', 'gen', 'risk_level', 'v_category'])\n",
        "X_test1_scaled = scaler.transform(X_test1)\n",
        "\n",
        "# Predict probabilities for each class\n",
        "y_pred_1_medium_prob = classifier_medium_vs_rest.predict_proba(X_test1_scaled)[:, 1]\n",
        "print(y_pred_1_medium_prob)\n",
        "plt.hist(y_pred_1_medium_prob, bins=20, edgecolor='k')\n",
        "plt.title('Histogram of Predicted Probabilities for Test1')\n",
        "plt.xlabel('Probability')\n",
        "plt.ylabel('Frequency')\n",
        "plt.show()\n",
        "threshold = 0.95\n",
        "final_predictions_1 = apply_threshold(y_pred_1_medium_prob, threshold)\n",
        "final_predictions_1 = pd.Series(final_predictions_1, index=X_test1.index)\n",
        "\n",
        "# Evaluate the results\n",
        "df2_test1_ = df2_test1.copy()\n",
        "df2_test1_['risk_level_binary'] = df2_test1['risk_level'].apply(lambda x: 'Medium' if x == 'Medium' else 'Not Medium')\n",
        "\n",
        "# Create a DataFrame for true labels and predictions\n",
        "y1_true = pd.DataFrame()\n",
        "y1_true['risk_level'] = df2_test1_['risk_level_binary']\n",
        "y1_true['pred'] = final_predictions_1\n",
        "\n",
        "print(y1_true['risk_level'].value_counts())\n",
        "print(y1_true['pred'].value_counts())\n",
        "score1 = macro_avg_f1(y1_true['risk_level'], y1_true['pred'])\n",
        "print('\\nScores1 Details:\\n', score1)\n",
        "accuracy = (y1_true['risk_level'] == y1_true['pred']).mean()\n",
        "print(\"Accuracy:\", accuracy)"
      ],
      "metadata": {
        "colab": {
          "base_uri": "https://localhost:8080/",
          "height": 715
        },
        "id": "jGLQUxOvJupZ",
        "outputId": "97664223-c534-4070-a4bb-265fa14af44a"
      },
      "execution_count": 51,
      "outputs": [
        {
          "output_type": "stream",
          "name": "stdout",
          "text": [
            "[0.97824021 0.97786005 0.97235805 ... 0.51659999 0.95574541 0.96749363]\n"
          ]
        },
        {
          "output_type": "display_data",
          "data": {
            "text/plain": [
              "<Figure size 640x480 with 1 Axes>"
            ],
            "image/png": "[encoded data removed]"
          },
          "metadata": {}
        },
        {
          "output_type": "stream",
          "name": "stdout",
          "text": [
            "threshold 0.95\n",
            "risk_level\n",
            "Not Medium    30353\n",
            "Medium         1135\n",
            "Name: count, dtype: int64\n",
            "pred\n",
            "Not Medium    29812\n",
            "Medium         1676\n",
            "Name: count, dtype: int64\n",
            "\n",
            "Scores1 Details:\n",
            " 0.81\n",
            "Accuracy: 0.9668762703252033\n"
          ]
        }
      ]
    },
    {
      "cell_type": "code",
      "source": [
        "not_medium_indices = y1_true[y1_true['pred'] == 'Not Medium'].index\n",
        "print(\"not_medium_indices_1\",len(not_medium_indices))\n",
        "X_test1_high_low = X_test1.iloc[not_medium_indices]\n",
        "#y_test1_high_vs_medium = y_train[high_medium_filter]\n",
        "X_test1_high_low_scaled = scaler.transform(X_test1_high_low)\n",
        "\n",
        "y_pred_1_hl = classifier_high_vs_low.predict_proba(X_test1_high_low_scaled)[:, 1]\n",
        "print(y_pred_1_hl)\n",
        "print(len(y_pred_1_hl))\n",
        "plt.hist(y_pred_1_hl, bins=20, edgecolor='k')\n",
        "plt.title('Histogram of Predicted Probabilities for Test1 hl')\n",
        "plt.xlabel('Probability')\n",
        "plt.ylabel('Frequency')\n",
        "plt.show()\n",
        "\n",
        "threshold = 0.7\n",
        "final_predictions_1_hl = apply_threshold_hl(y_pred_1_hl, threshold)\n",
        "final_predictions_1_hl = pd.Series(final_predictions_1_hl, index=X_test1_high_low.index)\n",
        "matching_indices_1 = y1_true.index.intersection(final_predictions_1_hl.index)\n",
        "\n",
        "# Update the 'pred' column in y1_true where indices match\n",
        "y1_true.loc[matching_indices_1, 'pred'] = final_predictions_1_hl.loc[matching_indices_1]\n",
        "y1_true['risk_level'] = df2_test1['risk_level']\n",
        "print(y1_true['risk_level'].value_counts())\n",
        "print(y1_true['pred'].value_counts())\n",
        "score1 = macro_avg_f1(y1_true['risk_level'], y1_true['pred'])\n",
        "print('\\nScores1 Details:\\n', score1)\n",
        "accuracy = (y1_true['risk_level'] == y1_true['pred']).mean()\n",
        "print(\"Accuracy:\", accuracy)"
      ],
      "metadata": {
        "colab": {
          "base_uri": "https://localhost:8080/",
          "height": 784
        },
        "id": "nGTD_ox3OaEu",
        "outputId": "4db63047-d929-44a7-e396-6c44d65693b5"
      },
      "execution_count": 52,
      "outputs": [
        {
          "output_type": "stream",
          "name": "stdout",
          "text": [
            "not_medium_indices_1 29812\n",
            "[0.01816554 1.         1.         ... 0.99999995 0.05642766 0.01308397]\n",
            "29812\n"
          ]
        },
        {
          "output_type": "display_data",
          "data": {
            "text/plain": [
              "<Figure size 640x480 with 1 Axes>"
            ],
            "image/png": "[encoded data removed]"
          },
          "metadata": {}
        },
        {
          "output_type": "stream",
          "name": "stdout",
          "text": [
            "threshold 0.7\n",
            "risk_level\n",
            "Low       28706\n",
            "High       1647\n",
            "Medium     1135\n",
            "Name: count, dtype: int64\n",
            "pred\n",
            "Low       28611\n",
            "Medium     1676\n",
            "High       1201\n",
            "Name: count, dtype: int64\n",
            "\n",
            "Scores1 Details:\n",
            " 0.79\n",
            "Accuracy: 0.9628429878048781\n"
          ]
        }
      ]
    },
    {
      "cell_type": "code",
      "source": [],
      "metadata": {
        "id": "tPSDL0C0PSSu"
      },
      "execution_count": null,
      "outputs": []
    }
  ]
}