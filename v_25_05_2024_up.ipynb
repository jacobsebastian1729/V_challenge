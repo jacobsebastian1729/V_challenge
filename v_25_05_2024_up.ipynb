{
  "nbformat": 4,
  "nbformat_minor": 0,
  "metadata": {
    "colab": {
      "provenance": []
    },
    "kernelspec": {
      "name": "python3",
      "display_name": "Python 3"
    },
    "language_info": {
      "name": "python"
    }
  },
  "cells": [
    {
      "cell_type": "code",
      "execution_count": 17,
      "metadata": {
        "id": "7um-fulv5KET"
      },
      "outputs": [],
      "source": [
        "import numpy as np\n",
        "import pandas as pd"
      ]
    },
    {
      "cell_type": "code",
      "source": [
        "t1 = pd.read_csv('train1_column.csv')\n",
        "t2 = pd.read_csv('train2_column.csv')\n",
        "t3 = pd.read_csv('train3_column.csv')\n",
        "t4 = pd.read_csv('train4_column.csv')\n",
        "t5 = pd.read_csv('train5_column.csv')"
      ],
      "metadata": {
        "id": "8SGoyOTH5YYi"
      },
      "execution_count": 18,
      "outputs": []
    },
    {
      "cell_type": "code",
      "source": [
        "print(t1.shape)\n",
        "print(t2.shape)\n",
        "print(t3.shape)\n",
        "print(t4.shape)\n",
        "print(t5.shape)"
      ],
      "metadata": {
        "colab": {
          "base_uri": "https://localhost:8080/"
        },
        "id": "6EqMqyVE5dIz",
        "outputId": "feb6d7e9-26ae-46ef-a738-d2f96c062714"
      },
      "execution_count": 19,
      "outputs": [
        {
          "output_type": "stream",
          "name": "stdout",
          "text": [
            "(265, 1)\n",
            "(273, 1)\n",
            "(272, 1)\n",
            "(268, 1)\n",
            "(265, 1)\n"
          ]
        }
      ]
    },
    {
      "cell_type": "code",
      "source": [
        "#t1.head(20)"
      ],
      "metadata": {
        "id": "4DfBLnsN7b8m"
      },
      "execution_count": 33,
      "outputs": []
    },
    {
      "cell_type": "code",
      "source": [
        "columns1 = t1['Column_Names_1'].dropna().tolist()\n",
        "columns2 = t2['Column_Names_2'].dropna().tolist()\n",
        "columns3 = t3['Column_Names_3'].dropna().tolist()\n",
        "columns4 = t4['Column_Names_4'].dropna().tolist()\n",
        "columns5 = t5['Column_Names_5'].dropna().tolist()"
      ],
      "metadata": {
        "id": "mbhwkOE65fqH"
      },
      "execution_count": 21,
      "outputs": []
    },
    {
      "cell_type": "code",
      "source": [
        "common_columns = set(columns1) & set(columns2) & set(columns3) & set(columns4) & set(columns5)\n",
        "unique_columns1 = set(columns1) - common_columns\n",
        "unique_columns2 = set(columns2) - common_columns\n",
        "unique_columns3 = set(columns3) - common_columns\n",
        "unique_columns4 = set(columns4) - common_columns\n",
        "unique_columns5 = set(columns5) - common_columns\n",
        "\n"
      ],
      "metadata": {
        "id": "yNRWeSI77Yyf"
      },
      "execution_count": 22,
      "outputs": []
    },
    {
      "cell_type": "code",
      "source": [
        "all_unique_columns = unique_columns1 | unique_columns2 | unique_columns3 | unique_columns4 | unique_columns5"
      ],
      "metadata": {
        "id": "1Ih17_CHSsGW"
      },
      "execution_count": 23,
      "outputs": []
    },
    {
      "cell_type": "code",
      "source": [
        "# Convert sets to lists for saving\n",
        "unique_columns1 = list(unique_columns1)\n",
        "unique_columns2 = list(unique_columns2)\n",
        "unique_columns3 = list(unique_columns3)\n",
        "unique_columns4 = list(unique_columns4)\n",
        "unique_columns5 = list(unique_columns5)"
      ],
      "metadata": {
        "id": "uKBWCfNMSnbV"
      },
      "execution_count": 24,
      "outputs": []
    },
    {
      "cell_type": "code",
      "source": [
        "common_columns = list(common_columns)\n",
        "all_unique_columns = list(all_unique_columns)"
      ],
      "metadata": {
        "id": "f3gdf_e0S1qf"
      },
      "execution_count": 25,
      "outputs": []
    },
    {
      "cell_type": "code",
      "source": [
        "print(len(common_columns))"
      ],
      "metadata": {
        "colab": {
          "base_uri": "https://localhost:8080/"
        },
        "id": "rh6YjhAD7oxq",
        "outputId": "3eb38993-0856-483b-8da7-4d3e2364ebf2"
      },
      "execution_count": 26,
      "outputs": [
        {
          "output_type": "stream",
          "name": "stdout",
          "text": [
            "262\n"
          ]
        }
      ]
    },
    {
      "cell_type": "code",
      "source": [
        "print(len(unique_columns1))\n",
        "print(len(unique_columns2))\n",
        "print(len(unique_columns3))\n",
        "print(len(unique_columns4))\n",
        "print(len(unique_columns5))"
      ],
      "metadata": {
        "colab": {
          "base_uri": "https://localhost:8080/"
        },
        "id": "96r_5Seb8Bm2",
        "outputId": "271f2ce2-83d8-47c1-d5ad-97fe3a0e1f2b"
      },
      "execution_count": 27,
      "outputs": [
        {
          "output_type": "stream",
          "name": "stdout",
          "text": [
            "3\n",
            "11\n",
            "10\n",
            "6\n",
            "3\n"
          ]
        }
      ]
    },
    {
      "cell_type": "code",
      "source": [
        "#print(unique_columns1)\n",
        "#print(unique_columns2)\n",
        "#print(unique_columns3)\n",
        "#print(unique_columns4)\n",
        "#print(unique_columns5)"
      ],
      "metadata": {
        "id": "F1LIYADP8R0R"
      },
      "execution_count": 34,
      "outputs": []
    },
    {
      "cell_type": "code",
      "source": [
        "#print(all_unique_columns)"
      ],
      "metadata": {
        "id": "bdeggRn7CVsx"
      },
      "execution_count": 35,
      "outputs": []
    },
    {
      "cell_type": "code",
      "source": [
        "#print(common_columns)"
      ],
      "metadata": {
        "id": "KndeEeuLEb-F"
      },
      "execution_count": 36,
      "outputs": []
    },
    {
      "cell_type": "code",
      "source": [],
      "metadata": {
        "id": "5a-M7uBcEZq8"
      },
      "execution_count": null,
      "outputs": []
    }
  ]
}