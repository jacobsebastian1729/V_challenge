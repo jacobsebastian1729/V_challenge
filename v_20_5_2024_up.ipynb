{
  "nbformat": 4,
  "nbformat_minor": 0,
  "metadata": {
    "colab": {
      "provenance": []
    },
    "kernelspec": {
      "name": "python3",
      "display_name": "Python 3"
    },
    "language_info": {
      "name": "python"
    }
  },
  "cells": [
    {
      "cell_type": "markdown",
      "source": [
        "\n",
        "\n",
        "# **Variants data**\n",
        "\n",
        "\n"
      ],
      "metadata": {
        "id": "VhCtWTJFDZhI"
      }
    },
    {
      "cell_type": "code",
      "execution_count": 1,
      "metadata": {
        "id": "xl_Le1aiDGN5"
      },
      "outputs": [],
      "source": [
        "import pandas as pd\n",
        "import numpy as np"
      ]
    },
    {
      "cell_type": "code",
      "source": [
        "#read_data\n",
        "variants = pd.read_csv('variants.csv')"
      ],
      "metadata": {
        "id": "6Cj1t7GcDkgL"
      },
      "execution_count": 2,
      "outputs": []
    },
    {
      "cell_type": "code",
      "source": [
        "#variants.head()"
      ],
      "metadata": {
        "id": "avVr_eRCDmdT"
      },
      "execution_count": 11,
      "outputs": []
    },
    {
      "cell_type": "code",
      "source": [
        "#check for any missing values (eg: null, na)\n",
        "any_missing_values = variants.isna().any().any()\n",
        "print(\"\\nAny missing values in the DataFrame:\", any_missing_values)"
      ],
      "metadata": {
        "colab": {
          "base_uri": "https://localhost:8080/"
        },
        "id": "jVC8MQXGDoTG",
        "outputId": "98c6c9cd-7eeb-451b-a7c8-f7a4849bac52"
      },
      "execution_count": 4,
      "outputs": [
        {
          "output_type": "stream",
          "name": "stdout",
          "text": [
            "\n",
            "Any missing values in the DataFrame: False\n"
          ]
        }
      ]
    },
    {
      "cell_type": "code",
      "source": [
        "#data shape\n",
        "print(variants.shape)"
      ],
      "metadata": {
        "colab": {
          "base_uri": "https://localhost:8080/"
        },
        "id": "VQId5qEDDqbZ",
        "outputId": "630f11f8-5496-4101-f63d-b90acdf012f7"
      },
      "execution_count": 6,
      "outputs": [
        {
          "output_type": "stream",
          "name": "stdout",
          "text": [
            "(10639, 13)\n"
          ]
        }
      ]
    },
    {
      "cell_type": "code",
      "source": [
        "#grouping rows based on the values in columns [v_0 to v_11]\n",
        "column_range = range(1,13)\n",
        "column_names = variants.columns[column_range]\n",
        "grouped_variants = variants.groupby(column_names.tolist())\n",
        "group_indices = grouped_variants.ngroup()\n",
        "\n",
        "###\n",
        "variants_1 = variants.copy()\n",
        "variants_1['v_category'] = group_indices"
      ],
      "metadata": {
        "id": "M02sywnXDuCK"
      },
      "execution_count": 7,
      "outputs": []
    },
    {
      "cell_type": "code",
      "source": [
        "#variants_1.head()"
      ],
      "metadata": {
        "id": "qmQLRy1iEjIw"
      },
      "execution_count": 10,
      "outputs": []
    },
    {
      "cell_type": "code",
      "source": [
        "#sorting the rows based on v_category and previous index order:\n",
        "variants_1['Index'] = variants_1.index\n",
        "variants_sorted = variants_1.sort_values(by = ['v_category', 'Index'])\n",
        "variants_sorted = variants_sorted.drop(columns = ['Index'])"
      ],
      "metadata": {
        "id": "tgfBoonCElFl"
      },
      "execution_count": 9,
      "outputs": []
    },
    {
      "cell_type": "code",
      "source": [
        "#to save the new new data frame as csv, comment the below line and run\n",
        "#variants_sorted.to_csv('variants_sorted.csv', index=False)"
      ],
      "metadata": {
        "id": "zHebW_m1FKCD"
      },
      "execution_count": 13,
      "outputs": []
    },
    {
      "cell_type": "code",
      "source": [],
      "metadata": {
        "id": "L1E5xRc0FV7L"
      },
      "execution_count": null,
      "outputs": []
    }
  ]
}